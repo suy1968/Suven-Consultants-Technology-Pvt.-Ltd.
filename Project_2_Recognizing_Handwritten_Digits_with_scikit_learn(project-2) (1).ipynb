{
 "cells": [
  {
   "cell_type": "markdown",
   "metadata": {
    "id": "h4OppWx53D2D"
   },
   "source": [
    "# Suyash Pratap Singh\n"
   ]
  },
  {
   "cell_type": "markdown",
   "metadata": {},
   "source": [
    "# Github Link:- https://github.com/suy1968/Suven-Consultants-Technology-Pvt.-Ltd."
   ]
  },
  {
   "cell_type": "markdown",
   "metadata": {
    "id": "ul6WYwqW3D2J"
   },
   "source": [
    "# Project-2 Recognizing Handwritten Digits with scikit-learn"
   ]
  },
  {
   "cell_type": "code",
   "execution_count": null,
   "metadata": {
    "id": "lof1fwXT3D2M"
   },
   "outputs": [],
   "source": [
    "import numpy as np \n",
    "import pandas as pd \n",
    "import matplotlib.pyplot as plt"
   ]
  },
  {
   "cell_type": "markdown",
   "metadata": {
    "id": "KKbcjJSR3D2Z"
   },
   "source": [
    "# Import scikit-learn"
   ]
  },
  {
   "cell_type": "code",
   "execution_count": null,
   "metadata": {
    "id": "KCc-ZoNY3D2c"
   },
   "outputs": [],
   "source": [
    "from sklearn import svm\n",
    "svc = svm.SVC(gamma=0.001, C=100.)"
   ]
  },
  {
   "cell_type": "markdown",
   "metadata": {
    "id": "haO7iyKS3D2n"
   },
   "source": [
    "# Load the datasets"
   ]
  },
  {
   "cell_type": "code",
   "execution_count": null,
   "metadata": {
    "id": "hYVI8q_l3D2p"
   },
   "outputs": [],
   "source": [
    "from sklearn import datasets \n",
    "digits = datasets.load_digits()"
   ]
  },
  {
   "cell_type": "code",
   "execution_count": null,
   "metadata": {
    "id": "4HkyMPXc3D23",
    "outputId": "5000aa8e-98e0-4a8c-a916-2a6b0faabd10"
   },
   "outputs": [
    {
     "data": {
      "text/plain": [
       "array([[ 0.,  0.,  5., 13.,  9.,  1.,  0.,  0.],\n",
       "       [ 0.,  0., 13., 15., 10., 15.,  5.,  0.],\n",
       "       [ 0.,  3., 15.,  2.,  0., 11.,  8.,  0.],\n",
       "       [ 0.,  4., 12.,  0.,  0.,  8.,  8.,  0.],\n",
       "       [ 0.,  5.,  8.,  0.,  0.,  9.,  8.,  0.],\n",
       "       [ 0.,  4., 11.,  0.,  1., 12.,  7.,  0.],\n",
       "       [ 0.,  2., 14.,  5., 10., 12.,  0.,  0.],\n",
       "       [ 0.,  0.,  6., 13., 10.,  0.,  0.,  0.]])"
      ]
     },
     "execution_count": 3,
     "metadata": {
      "tags": []
     },
     "output_type": "execute_result"
    }
   ],
   "source": [
    "digits.images[0]"
   ]
  },
  {
   "cell_type": "code",
   "execution_count": null,
   "metadata": {
    "id": "8h43os4M3D3I",
    "outputId": "b05ce3e1-54d5-4fd3-b2bf-fdfc102bed34"
   },
   "outputs": [
    {
     "data": {
      "text/plain": [
       "<matplotlib.image.AxesImage at 0x7f0ec79fdac8>"
      ]
     },
     "execution_count": 6,
     "metadata": {
      "tags": []
     },
     "output_type": "execute_result"
    },
    {
     "data": {
      "image/png": "[encoded data removed]",
      "text/plain": [
       "<Figure size 432x288 with 6 Axes>"
      ]
     },
     "metadata": {
      "needs_background": "light",
      "tags": []
     },
     "output_type": "display_data"
    }
   ],
   "source": [
    "plt.subplot(321)\n",
    "plt.imshow(digits.images[1701], cmap=plt.cm.gray_r, interpolation='nearest')\n",
    "plt.subplot(322)\n",
    "plt.imshow(digits.images[1702], cmap=plt.cm.gray_r, interpolation='nearest')\n",
    "plt.subplot(323)\n",
    "plt.imshow(digits.images[1703], cmap=plt.cm.gray_r, interpolation='nearest')\n",
    "plt.subplot(324)\n",
    "plt.imshow(digits.images[1704], cmap=plt.cm.gray_r, interpolation='nearest')\n",
    "plt.subplot(325)\n",
    "plt.imshow(digits.images[1705], cmap=plt.cm.gray_r, interpolation='nearest')\n",
    "plt.subplot(326)\n",
    "plt.imshow(digits.images[1706], cmap=plt.cm.gray_r, interpolation='nearest')"
   ]
  },
  {
   "cell_type": "markdown",
   "metadata": {
    "id": "6ROsKbdJ3D3U"
   },
   "source": [
    "# Training and testing the dataset and predict"
   ]
  },
  {
   "cell_type": "code",
   "execution_count": null,
   "metadata": {
    "id": "Rbk68Kh23D3X",
    "outputId": "f248ef89-f3ad-4ba7-9b8d-e61fdc405218"
   },
   "outputs": [
    {
     "data": {
      "text/plain": [
       "array([6, 5, 0, 9, 8, 9])"
      ]
     },
     "execution_count": 8,
     "metadata": {
      "tags": []
     },
     "output_type": "execute_result"
    }
   ],
   "source": [
    "svc.fit(digits.data[1:1600], digits.target[1:1600])\n",
    "svc.predict(digits.data[1701:1707])"
   ]
  },
  {
   "cell_type": "markdown",
   "metadata": {
    "id": "Hox3JNeP3D3z"
   },
   "source": [
    "# Fit and Predict the dataset"
   ]
  },
  {
   "cell_type": "code",
   "execution_count": null,
   "metadata": {
    "id": "LToD6hof3D34",
    "outputId": "88e2b755-1d2f-421a-b32c-ed43bec0702a"
   },
   "outputs": [
    {
     "data": {
      "text/plain": [
       "array([4, 9, 0, 8, 9])"
      ]
     },
     "execution_count": 9,
     "metadata": {
      "tags": []
     },
     "output_type": "execute_result"
    }
   ],
   "source": [
    "svc.fit(digits.data[1:1790], digits.target[1:1790])\n",
    "svc.predict(digits.data[1791:1796])"
   ]
  },
  {
   "cell_type": "markdown",
   "metadata": {
    "id": "amg5dmTR3D4K"
   },
   "source": [
    "# Fit and Predict the dataset"
   ]
  },
  {
   "cell_type": "code",
   "execution_count": null,
   "metadata": {
    "id": "EbgjkQR33D4N",
    "outputId": "04a11425-23f8-461e-a7e0-8c0bfdaff147"
   },
   "outputs": [
    {
     "data": {
      "text/plain": [
       "array([4, 9, 0, 8, 9])"
      ]
     },
     "execution_count": 10,
     "metadata": {
      "tags": []
     },
     "output_type": "execute_result"
    }
   ],
   "source": [
    "svc.fit(digits.data[1:1600], digits.target[1:1600])\n",
    "svc.predict(digits.data[1791:1796])"
   ]
  },
  {
   "cell_type": "markdown",
   "metadata": {
    "id": "NUQI_orx3D4b"
   },
   "source": [
    "# Import libraries"
   ]
  },
  {
   "cell_type": "code",
   "execution_count": null,
   "metadata": {
    "id": "GUXN56hA3D4e"
   },
   "outputs": [],
   "source": [
    "from sklearn import datasets\n",
    "from sklearn import svm\n",
    "from matplotlib import pyplot as plt"
   ]
  },
  {
   "cell_type": "markdown",
   "metadata": {
    "id": "g2XQSMnY3D4u"
   },
   "source": [
    "# Loading the Digits dataset "
   ]
  },
  {
   "cell_type": "code",
   "execution_count": null,
   "metadata": {
    "id": "aHfWDTBy3D4w"
   },
   "outputs": [],
   "source": [
    "svc = svm.SVC(gamma=0.001, C=100.)\n",
    "digits = datasets.load_digits()"
   ]
  },
  {
   "cell_type": "markdown",
   "metadata": {
    "id": "g-7yT0IO3D48"
   },
   "source": [
    "# Lots of information about the datasets by using the DESCR attribute"
   ]
  },
  {
   "cell_type": "code",
   "execution_count": null,
   "metadata": {
    "id": "TTTe0jl53D4-",
    "outputId": "57bd87c7-341d-4e7c-928d-691b26817588"
   },
   "outputs": [
    {
     "name": "stdout",
     "output_type": "stream",
     "text": [
      ".. _digits_dataset:\n",
      "\n",
      "Optical recognition of handwritten digits dataset\n",
      "--------------------------------------------------\n",
      "\n",
      "**Data Set Characteristics:**\n",
      "\n",
      "    :Number of Instances: 5620\n",
      "    :Number of Attributes: 64\n",
      "    :Attribute Information: 8x8 image of integer pixels in the range 0..16.\n",
      "    :Missing Attribute Values: None\n",
      "    :Creator: E. Alpaydin (alpaydin '@' boun.edu.tr)\n",
      "    :Date: July; 1998\n",
      "\n",
      "This is a copy of the test set of the UCI ML hand-written digits datasets\n",
      "https://archive.ics.uci.edu/ml/datasets/Optical+Recognition+of+Handwritten+Digits\n",
      "\n",
      "The data set contains images of hand-written digits: 10 classes where\n",
      "each class refers to a digit.\n",
      "\n",
      "Preprocessing programs made available by NIST were used to extract\n",
      "normalized bitmaps of handwritten digits from a preprinted form. From a\n",
      "total of 43 people, 30 contributed to the training set and different 13\n",
      "to the test set. 32x32 bitmaps are divided into nonoverlapping blocks of\n",
      "4x4 and the number of on pixels are counted in each block. This generates\n",
      "an input matrix of 8x8 where each element is an integer in the range\n",
      "0..16. This reduces dimensionality and gives invariance to small\n",
      "distortions.\n",
      "\n",
      "For info on NIST preprocessing routines, see M. D. Garris, J. L. Blue, G.\n",
      "T. Candela, D. L. Dimmick, J. Geist, P. J. Grother, S. A. Janet, and C.\n",
      "L. Wilson, NIST Form-Based Handprint Recognition System, NISTIR 5469,\n",
      "1994.\n",
      "\n",
      ".. topic:: References\n",
      "\n",
      "  - C. Kaynak (1995) Methods of Combining Multiple Classifiers and Their\n",
      "    Applications to Handwritten Digit Recognition, MSc Thesis, Institute of\n",
      "    Graduate Studies in Science and Engineering, Bogazici University.\n",
      "  - E. Alpaydin, C. Kaynak (1998) Cascading Classifiers, Kybernetika.\n",
      "  - Ken Tang and Ponnuthurai N. Suganthan and Xi Yao and A. Kai Qin.\n",
      "    Linear dimensionalityreduction using relevance weighted LDA. School of\n",
      "    Electrical and Electronic Engineering Nanyang Technological University.\n",
      "    2005.\n",
      "  - Claudio Gentile. A New Approximate Maximal Margin Classification\n",
      "    Algorithm. NIPS. 2000.\n"
     ]
    }
   ],
   "source": [
    "print(digits.DESCR)"
   ]
  },
  {
   "cell_type": "code",
   "execution_count": null,
   "metadata": {
    "id": "GpJIls8S3D5O",
    "outputId": "2380145b-0a49-47f4-d720-949343037d18"
   },
   "outputs": [
    {
     "name": "stdout",
     "output_type": "stream",
     "text": [
      "[[ 0.  0.  5. 13.  9.  1.  0.  0.]\n",
      " [ 0.  0. 13. 15. 10. 15.  5.  0.]\n",
      " [ 0.  3. 15.  2.  0. 11.  8.  0.]\n",
      " [ 0.  4. 12.  0.  0.  8.  8.  0.]\n",
      " [ 0.  5.  8.  0.  0.  9.  8.  0.]\n",
      " [ 0.  4. 11.  0.  1. 12.  7.  0.]\n",
      " [ 0.  2. 14.  5. 10. 12.  0.  0.]\n",
      " [ 0.  0.  6. 13. 10.  0.  0.  0.]]\n"
     ]
    }
   ],
   "source": [
    "print(digits.images[0])"
   ]
  },
  {
   "cell_type": "code",
   "execution_count": null,
   "metadata": {
    "id": "6PPlvDQv3D5e",
    "outputId": "d1fc46b4-d520-4f4e-ef15-492d3d333e7d"
   },
   "outputs": [
    {
     "data": {
      "text/plain": [
       "<matplotlib.image.AxesImage at 0x7f0ec76fbc18>"
      ]
     },
     "execution_count": 16,
     "metadata": {
      "tags": []
     },
     "output_type": "execute_result"
    },
    {
     "data": {
      "image/png": "[encoded data removed]",
      "text/plain": [
       "<Figure size 432x288 with 1 Axes>"
      ]
     },
     "metadata": {
      "needs_background": "light",
      "tags": []
     },
     "output_type": "display_data"
    }
   ],
   "source": [
    "plt.imshow(digits.images[0], cmap=plt.cm.gray_r, interpolation='nearest')"
   ]
  },
  {
   "cell_type": "code",
   "execution_count": null,
   "metadata": {
    "id": "A8AKfaKu3D5x",
    "outputId": "d13ad2c6-5d27-4df9-c0c1-624624c5a9ad"
   },
   "outputs": [
    {
     "name": "stdout",
     "output_type": "stream",
     "text": [
      "[0 1 2 ... 8 9 8]\n"
     ]
    }
   ],
   "source": [
    "print(digits.target)"
   ]
  },
  {
   "cell_type": "code",
   "execution_count": null,
   "metadata": {
    "id": "zG_rEK6r3D6B",
    "outputId": "10c62f7e-9760-4d75-9284-1b6c8b5cfa32"
   },
   "outputs": [
    {
     "data": {
      "image/png": "[encoded data removed]",
      "text/plain": [
       "<Figure size 432x288 with 4 Axes>"
      ]
     },
     "metadata": {
      "needs_background": "light",
      "tags": []
     },
     "output_type": "display_data"
    }
   ],
   "source": [
    "for i in range(1,5):\n",
    "    plt.subplot(3,2,i)\n",
    "    plt.imshow(digits.images[i], cmap=plt.cm.gray_r,interpolation='nearest')"
   ]
  },
  {
   "cell_type": "code",
   "execution_count": null,
   "metadata": {
    "id": "d-fVzC6C3D6V",
    "outputId": "70922011-0748-4fe2-f1d2-1138ded9d89a"
   },
   "outputs": [
    {
     "data": {
      "text/plain": [
       "array([1, 2, 3, 4, 5, 6])"
      ]
     },
     "execution_count": 21,
     "metadata": {
      "tags": []
     },
     "output_type": "execute_result"
    }
   ],
   "source": [
    "svc.fit(digits.data[1:1790],digits.target[1:1790])\n",
    "svc.predict(digits.data[1:7])"
   ]
  },
  {
   "cell_type": "code",
   "execution_count": null,
   "metadata": {
    "id": "EjPJTWiq3D6i",
    "outputId": "fe7768a0-b35f-4a16-8174-c1713d2d9d78"
   },
   "outputs": [
    {
     "data": {
      "text/plain": [
       "array([1, 2, 3, 4, 5, 6])"
      ]
     },
     "execution_count": 22,
     "metadata": {
      "tags": []
     },
     "output_type": "execute_result"
    }
   ],
   "source": [
    "digits.target[1:7]"
   ]
  },
  {
   "cell_type": "code",
   "execution_count": null,
   "metadata": {
    "id": "VDxeZfjW3D6t",
    "outputId": "85b958ae-3c38-4d96-8d47-5a73934f533a"
   },
   "outputs": [
    {
     "data": {
      "text/plain": [
       "1.0"
      ]
     },
     "execution_count": 23,
     "metadata": {
      "tags": []
     },
     "output_type": "execute_result"
    }
   ],
   "source": [
    "from sklearn.metrics import accuracy_score\n",
    "accuracy_score(svc.predict(digits.data[1:7]),digits.target[1:7])"
   ]
  },
  {
   "cell_type": "code",
   "execution_count": null,
   "metadata": {
    "id": "o1Od4hKw3D62"
   },
   "outputs": [],
   "source": [
    "a=digits.target[1:7]\n",
    "b=svc.predict(digits.data[1:7])\n",
    "\n",
    "for i in range(len(a)):\n",
    "    yes = 0\n",
    "    no = 0\n",
    "    if a[i] == b[i]:\n",
    "        yes += 1\n",
    "    else:\n",
    "        no += 1"
   ]
  },
  {
   "cell_type": "code",
   "execution_count": null,
   "metadata": {
    "id": "KI8mpALn3D6-",
    "outputId": "47c5c83c-80b9-44b2-b55f-0d5d62a41c73"
   },
   "outputs": [
    {
     "name": "stdout",
     "output_type": "stream",
     "text": [
      "100.0\n"
     ]
    }
   ],
   "source": [
    "accuracy=(yes/(no+yes))*100\n",
    "\n",
    "print(accuracy)"
   ]
  },
  {
   "cell_type": "markdown",
   "metadata": {
    "id": "5Y_zvDoy3D7I"
   },
   "source": [
    "# Conclusion: Here we learn ,how to import dataset from sklearn,how to build model and make prediction using function fit() and predict() .We also calculate accuracy by using the Sklearn library."
   ]
  },
  {
   "cell_type": "markdown",
   "metadata": {},
   "source": [
    "# Thank You"
   ]
  },
  {
   "cell_type": "code",
   "execution_count": null,
   "metadata": {},
   "outputs": [],
   "source": []
  }
 ],
 "metadata": {
  "colab": {
   "name": "Project-2 Recognizing Handwritten Digits with scikit-learn.ipynb",
   "provenance": []
  },
  "kernelspec": {
   "display_name": "Python 3",
   "language": "python",
   "name": "python3"
  },
  "language_info": {
   "codemirror_mode": {
    "name": "ipython",
    "version": 3
   },
   "file_extension": ".py",
   "mimetype": "text/x-python",
   "name": "python",
   "nbconvert_exporter": "python",
   "pygments_lexer": "ipython3",
   "version": "3.8.1"
  }
 },
 "nbformat": 4,
 "nbformat_minor": 1
}
